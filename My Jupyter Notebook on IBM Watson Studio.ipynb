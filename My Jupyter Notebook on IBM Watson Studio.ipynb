{
 "cells": [
  {
   "cell_type": "markdown",
   "id": "a7194cd6-e164-4c79-829e-fc341307eb33",
   "metadata": {},
   "source": [
    "# My Jupyter Notebook on IBM Watson Studio"
   ]
  },
  {
   "cell_type": "markdown",
   "id": "ce589b6b-3bd4-4f6e-b06d-96028e7c9bf9",
   "metadata": {
    "tags": []
   },
   "source": [
    " __Ahmed Laaziz__ "
   ]
  },
  {
   "cell_type": "markdown",
   "id": "dffad3d9-b593-4a94-8392-71d6f853c2cf",
   "metadata": {},
   "source": [
    "#### Data scientist"
   ]
  },
  {
   "cell_type": "markdown",
   "id": "1b521ac8-4719-4886-9b2c-a86950cb0900",
   "metadata": {},
   "source": [
    "_I'm interested in data science because i love to collecte informations from data_ "
   ]
  },
  {
   "cell_type": "markdown",
   "id": "9b95a403-456a-46fb-bbcc-f93ba55e8245",
   "metadata": {},
   "source": [
    "## The following code display the phrase \"I love data\" tree times. "
   ]
  },
  {
   "cell_type": "code",
   "execution_count": 6,
   "id": "ac2398e1-b54d-4aae-a239-edbf9a93a9bf",
   "metadata": {},
   "outputs": [
    {
     "name": "stdout",
     "output_type": "stream",
     "text": [
      "I love data\n",
      "I love data\n",
      "I love data\n"
     ]
    }
   ],
   "source": [
    "for i in range (3):\n",
    "    print(\"I love data\")"
   ]
  },
  {
   "cell_type": "markdown",
   "id": "99dc2758-dcc0-4fe7-937a-9df508af3591",
   "metadata": {},
   "source": [
    "1. First \n",
    "    1. Second \n",
    "        - Third \n",
    "            - Fourth \n",
    "2. First \n",
    "    1. Second \n",
    "3. First \n",
    "    1. Second \n",
    "    \n",
    "| Number | ID | Name | Region |\n",
    "| - | :- | :-: | -: |\n",
    "| 1 | R29873643 | Ahmed | Casa |\n",
    "| 2 | T0928353 | KArim | Rabat |\n",
    "| 3 | T1824321 | Said | Fes |\n",
    "| 4 | L90343091 | Hamid | El Jadida |\n"
   ]
  },
  {
   "cell_type": "code",
   "execution_count": null,
   "id": "71435754-3532-498b-b2c6-4c1323778bd2",
   "metadata": {},
   "outputs": [],
   "source": []
  }
 ],
 "metadata": {
  "kernelspec": {
   "display_name": "Python 3 (ipykernel)",
   "language": "python",
   "name": "python3"
  },
  "language_info": {
   "codemirror_mode": {
    "name": "ipython",
    "version": 3
   },
   "file_extension": ".py",
   "mimetype": "text/x-python",
   "name": "python",
   "nbconvert_exporter": "python",
   "pygments_lexer": "ipython3",
   "version": "3.9.12"
  }
 },
 "nbformat": 4,
 "nbformat_minor": 5
}
